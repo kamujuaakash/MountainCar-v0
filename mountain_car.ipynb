{
 "cells": [
  {
   "cell_type": "code",
   "execution_count": 1,
   "id": "e88610ef",
   "metadata": {},
   "outputs": [],
   "source": [
    "import numpy as np\n",
    "import gym\n",
    "import matplotlib.pyplot as plt\n",
    "env = gym.make('MountainCar-v0')"
   ]
  },
  {
   "cell_type": "markdown",
   "id": "b68359fe",
   "metadata": {},
   "source": [
    "# About the Environment"
   ]
  },
  {
   "cell_type": "code",
   "execution_count": 2,
   "id": "8e5511bf",
   "metadata": {},
   "outputs": [
    {
     "name": "stdout",
     "output_type": "stream",
     "text": [
      "(array([-0.47798708,  0.        ], dtype=float32), {})\n"
     ]
    }
   ],
   "source": [
    "observation = env.reset()\n",
    "print(observation)"
   ]
  },
  {
   "cell_type": "markdown",
   "id": "746a53b2",
   "metadata": {},
   "source": [
    "Here we can see that the states for selected environment is an box of length two, that is the horizontal distance from the centre and velocity at that point.\n",
    "Here we can see that the action space for the selected environment is an discrete value of three possibilities, that are to accelerate left, right and rest."
   ]
  },
  {
   "cell_type": "code",
   "execution_count": 3,
   "id": "2566bd14",
   "metadata": {},
   "outputs": [
    {
     "name": "stdout",
     "output_type": "stream",
     "text": [
      "State Space  Box([-1.2  -0.07], [0.6  0.07], (2,), float32)\n",
      "<class 'gym.spaces.box.Box'>\n",
      "[-1.2  -0.07]\n",
      "[0.6  0.07]\n",
      "Action Space Discrete(3)\n",
      "<class 'gym.spaces.discrete.Discrete'>\n",
      "0\n"
     ]
    }
   ],
   "source": [
    "print(\"State Space \", env.observation_space)\n",
    "print(type(env.observation_space))\n",
    "print(env.observation_space.low)\n",
    "print(env.observation_space.high)\n",
    "print(\"Action Space\", env.action_space)\n",
    "print(type(env.action_space))\n",
    "print(env.action_space.sample())"
   ]
  },
  {
   "cell_type": "markdown",
   "id": "5ded009b",
   "metadata": {},
   "source": [
    "# Training and Testing of car in the environment"
   ]
  },
  {
   "cell_type": "code",
   "execution_count": 4,
   "id": "392eae1e",
   "metadata": {},
   "outputs": [
    {
     "name": "stdout",
     "output_type": "stream",
     "text": [
      "37 29 3\n"
     ]
    }
   ],
   "source": [
    "num_states = (env.observation_space.high - env.observation_space.low)*np.array([20, 200])\n",
    "num_states = np.round(num_states,0).astype(int) + 1\n",
    "size1 = num_states[0]\n",
    "size2 = num_states[1]\n",
    "size3 = env.action_space.n\n",
    "print(size1,size2,size3)"
   ]
  },
  {
   "cell_type": "markdown",
   "id": "824fb1ef",
   "metadata": {},
   "source": [
    "env.step() returns five variables new state,reward, a boolean indicating whether or not the episode has terminated,a boolean indicating whether or not the episode has truncated and an additional information."
   ]
  },
  {
   "cell_type": "code",
   "execution_count": 5,
   "id": "2444b103",
   "metadata": {},
   "outputs": [],
   "source": [
    "def QLearning(env,epsilon,min_epsilon,learning,discount,episodes):\n",
    "    \n",
    "# Initialising the q table\n",
    "    qtable = np.random.uniform(low = -1,high = 1,size = (size1,size2,size3))\n",
    "# reward list, average list over time array\n",
    "    reward_list = []\n",
    "    averew_list = []\n",
    "    \n",
    "    \n",
    "    for i in range(episodes):   \n",
    "        \n",
    "        if i <= 2:\n",
    "            env = gym.make('MountainCar-v0',render_mode = 'human')\n",
    "        elif i >= (episodes - 5):\n",
    "            env = gym.make('MountainCar-v0',render_mode = 'human')\n",
    "        else:\n",
    "            env = gym.make('MountainCar-v0')\n",
    "        \n",
    "#       reduced epsilon for the episode to have balance between exploration and exploitation\n",
    "        red_epi = epsilon + (i/episodes)*(min_epsilon - epsilon)\n",
    "    \n",
    "        state,info = env.reset()\n",
    "        \n",
    "        reward = 0\n",
    "        tot_reward = 0\n",
    "        done1 = False\n",
    "        done2 = False\n",
    "        upd_state = np.round((state - env.observation_space.low)*np.array([20,200]),0).astype(int)\n",
    "     \n",
    "        while(done1 == False and done2 == False):    \n",
    "            \n",
    "#           converting the continuous space into discrete elements\n",
    "            if(np.random.random() < red_epi):\n",
    "                action = np.random.randint(0,size3)\n",
    "            else:\n",
    "                action = np.argmax(qtable[upd_state[0]][upd_state[1]]) \n",
    "                \n",
    "            state2, reward, done1,done2, info = env.step(action)\n",
    "    \n",
    "            \n",
    "            upd_state2 = np.round((state2 - env.observation_space.low)*np.array([20,200]),0).astype(int)\n",
    "#             print(upd_state2)\n",
    "\n",
    "            if(done1 == True):\n",
    "                qtable[upd_state[0]][upd_state[1]][action] = reward\n",
    "                if(i >= (episodes - 5)):\n",
    "                    print(\"Successfully reached the goal\")\n",
    "            else:\n",
    "                qtable[upd_state[0]][upd_state[1]][action] = (1 - learning)*qtable[upd_state[0]][upd_state[1]][action] + learning*(reward + (discount*np.max(qtable[upd_state2[0]][upd_state2[1]])))\n",
    "\n",
    "            upd_state = upd_state2\n",
    "            tot_reward += reward\n",
    "            \n",
    "        reward_list.append(tot_reward)\n",
    "\n",
    "        if (i+1)%100 == 0:\n",
    "            averew = np.mean(reward_list)\n",
    "            averew_list.append(averew)\n",
    "            reward_list = []\n",
    "            print(\"The average reward of {} iteration is {}\".format(i+1,averew))\n",
    "\n",
    "    env.close()\n",
    "    return averew_list"
   ]
  },
  {
   "cell_type": "code",
   "execution_count": 6,
   "id": "2c8f0046",
   "metadata": {},
   "outputs": [
    {
     "name": "stderr",
     "output_type": "stream",
     "text": [
      "/home/aakash/.local/lib/python3.10/site-packages/gym/utils/passive_env_checker.py:233: DeprecationWarning: `np.bool8` is a deprecated alias for `np.bool_`.  (Deprecated NumPy 1.24)\n",
      "  if not isinstance(terminated, (bool, np.bool8)):\n"
     ]
    },
    {
     "name": "stdout",
     "output_type": "stream",
     "text": [
      "The average reward of 100 iteration is -200.0\n",
      "The average reward of 200 iteration is -200.0\n",
      "The average reward of 300 iteration is -200.0\n",
      "The average reward of 400 iteration is -200.0\n",
      "The average reward of 500 iteration is -200.0\n",
      "The average reward of 600 iteration is -200.0\n",
      "The average reward of 700 iteration is -200.0\n",
      "The average reward of 800 iteration is -200.0\n",
      "The average reward of 900 iteration is -200.0\n",
      "The average reward of 1000 iteration is -200.0\n",
      "The average reward of 1100 iteration is -200.0\n",
      "The average reward of 1200 iteration is -200.0\n",
      "The average reward of 1300 iteration is -200.0\n",
      "The average reward of 1400 iteration is -200.0\n",
      "The average reward of 1500 iteration is -200.0\n",
      "The average reward of 1600 iteration is -200.0\n",
      "The average reward of 1700 iteration is -200.0\n",
      "The average reward of 1800 iteration is -200.0\n",
      "The average reward of 1900 iteration is -200.0\n",
      "The average reward of 2000 iteration is -200.0\n",
      "The average reward of 2100 iteration is -200.0\n",
      "The average reward of 2200 iteration is -200.0\n",
      "The average reward of 2300 iteration is -200.0\n",
      "The average reward of 2400 iteration is -199.95\n",
      "The average reward of 2500 iteration is -199.99\n",
      "The average reward of 2600 iteration is -199.55\n",
      "The average reward of 2700 iteration is -200.0\n",
      "The average reward of 2800 iteration is -198.46\n",
      "The average reward of 2900 iteration is -199.58\n",
      "The average reward of 3000 iteration is -199.28\n",
      "The average reward of 3100 iteration is -198.04\n",
      "The average reward of 3200 iteration is -198.6\n",
      "The average reward of 3300 iteration is -197.66\n",
      "The average reward of 3400 iteration is -196.51\n",
      "The average reward of 3500 iteration is -196.65\n",
      "The average reward of 3600 iteration is -198.56\n",
      "The average reward of 3700 iteration is -199.51\n",
      "The average reward of 3800 iteration is -199.18\n",
      "The average reward of 3900 iteration is -195.78\n",
      "The average reward of 4000 iteration is -190.73\n",
      "The average reward of 4100 iteration is -187.22\n",
      "The average reward of 4200 iteration is -195.02\n",
      "The average reward of 4300 iteration is -194.99\n",
      "The average reward of 4400 iteration is -199.75\n",
      "The average reward of 4500 iteration is -194.87\n",
      "The average reward of 4600 iteration is -183.76\n",
      "The average reward of 4700 iteration is -196.26\n",
      "The average reward of 4800 iteration is -187.72\n",
      "The average reward of 4900 iteration is -175.0\n",
      "Successfully reached the goal\n",
      "Successfully reached the goal\n",
      "Successfully reached the goal\n",
      "The average reward of 5000 iteration is -173.94\n"
     ]
    }
   ],
   "source": [
    "rewards_list = QLearning(env,0.8,0,0.2,0.9,5000)"
   ]
  },
  {
   "cell_type": "markdown",
   "id": "e7952140",
   "metadata": {},
   "source": [
    "# Rewards vs Iterations"
   ]
  },
  {
   "cell_type": "markdown",
   "id": "f2f41ec5",
   "metadata": {},
   "source": [
    "At each move, the car has three actions available to it: push left, push right or do nothing, and a penalty of 1 unit is applied for each move taken (including doing nothing). This means that, unless the can figure out a way to ascend the mountain in less than 200 moves, it will always achieve a total “reward” of -200 units,hence the reward is negative . So after 50 iterations(or 5000 episodes in this case) it is reaching the goal "
   ]
  },
  {
   "cell_type": "code",
   "execution_count": 7,
   "id": "7baea6d1",
   "metadata": {},
   "outputs": [
    {
     "data": {
      "image/png": "[encoded data removed]",
      "text/plain": [
       "<Figure size 640x480 with 1 Axes>"
      ]
     },
     "metadata": {},
     "output_type": "display_data"
    }
   ],
   "source": [
    "x_axis = np.arange(len(rewards_list))\n",
    "plt.ylabel('average of rewards')\n",
    "plt.xlabel('iterations')\n",
    "plt.plot(x_axis,rewards_list)\n",
    "plt.show()"
   ]
  },
  {
   "cell_type": "code",
   "execution_count": null,
   "id": "67c2d884",
   "metadata": {},
   "outputs": [],
   "source": []
  }
 ],
 "metadata": {
  "kernelspec": {
   "display_name": "Python 3 (ipykernel)",
   "language": "python",
   "name": "python3"
  },
  "language_info": {
   "codemirror_mode": {
    "name": "ipython",
    "version": 3
   },
   "file_extension": ".py",
   "mimetype": "text/x-python",
   "name": "python",
   "nbconvert_exporter": "python",
   "pygments_lexer": "ipython3",
   "version": "3.10.6"
  }
 },
 "nbformat": 4,
 "nbformat_minor": 5
}
